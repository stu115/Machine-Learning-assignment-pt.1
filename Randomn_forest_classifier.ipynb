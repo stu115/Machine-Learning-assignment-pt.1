{
  "nbformat": 4,
  "nbformat_minor": 0,
  "metadata": {
    "colab": {
      "provenance": [],
      "authorship_tag": "ABX9TyMuqV/qHVxsre/k25o5ihof",
      "include_colab_link": true
    },
    "kernelspec": {
      "name": "python3",
      "display_name": "Python 3"
    },
    "language_info": {
      "name": "python"
    }
  },
  "cells": [
    {
      "cell_type": "markdown",
      "metadata": {
        "id": "view-in-github",
        "colab_type": "text"
      },
      "source": [
        "<a href=\"https://colab.research.google.com/github/stu115/Machine-Learning-assignment-pt.1/blob/main/Randomn_forest_classifier.ipynb\" target=\"_parent\"><img src=\"https://colab.research.google.com/assets/colab-badge.svg\" alt=\"Open In Colab\"/></a>"
      ]
    },
    {
      "cell_type": "code",
      "execution_count": null,
      "metadata": {
        "id": "AzUButgBNduv"
      },
      "outputs": [],
      "source": [
        "# Load the library with the set of data that's iris\n",
        "from sklearn.datasets import load_iris\n",
        "\n",
        "# Lo...\n",
        "import numpy as np\n",
        "\n",
        "# Lo...\n",
        "import pandas as pd"
      ]
    },
    {
      "cell_type": "code",
      "source": [
        "...\n",
        "ir = load_iris()\n",
        "\n",
        "# Create a dataframe with the four feature variables\n",
        "df = dataframe(ir.data,ir.feature_columnNames)\n",
        "\n",
        "# View the top 5 rows\n",
        "df.head()"
      ],
      "metadata": {
        "id": "WH-2kxG-ODwB"
      },
      "execution_count": null,
      "outputs": []
    },
    {
      "cell_type": "code",
      "source": [
        "# Add a new column with the species names, this is what we are going to try to predict\n",
        "df['species'] pd.categorical.from_codes(ir.target, ir.target_names)\n",
        "\n",
        "# View the top 5 rows\n",
        "df.head()"
      ],
      "metadata": {
        "id": "ACSN_tmnOhDi"
      },
      "execution_count": null,
      "outputs": []
    },
    {
      "cell_type": "code",
      "source": [
        "#...\n",
        "#...\n",
        "np.randomn.seed(0)\n",
        "df['is...train'] = np.randomn.uniform(0,1, len (df))<= .75\n",
        "\n",
        "#...\n",
        "df.head()"
      ],
      "metadata": {
        "id": "eXvdtMH4Ok-L"
      },
      "execution_count": null,
      "outputs": []
    },
    {
      "cell_type": "code",
      "source": [
        "# ...\n",
        "..."
      ],
      "metadata": {
        "id": "xt6ZUbPFOo9p"
      },
      "execution_count": null,
      "outputs": []
    },
    {
      "cell_type": "code",
      "source": [
        "# Show the number of observations for the test and training dataframes\n",
        "print('of the...test', len(test))\n",
        "print('..of..the...train',len(train))"
      ],
      "metadata": {
        "id": "EXx4a0PfOsVY"
      },
      "execution_count": null,
      "outputs": []
    },
    {
      "cell_type": "code",
      "source": [
        "# Create\n",
        "ftrs = df.columns[:4]\n",
        "\n",
        "# View features\n",
        "ftrs"
      ],
      "metadata": {
        "id": "Vd5OophXOzAp"
      },
      "execution_count": null,
      "outputs": []
    },
    {
      "cell_type": "code",
      "source": [
        "# train['species'] has got the actual species names. We need to change each species name to a digit b4 running it.\n",
        "#So, in dataset case there are three species, which r written as 0, 1, or 2 code.\n",
        "\n",
        "y =pd.factorial (train['species'])[0]\n",
        "\n",
        "#See target\n",
        "..."
      ],
      "metadata": {
        "id": "X6KF3hJUUnVR"
      },
      "execution_count": null,
      "outputs": []
    },
    {
      "cell_type": "code",
      "metadata": {
        "id": "xURHzMXNHqJi",
        "collapsed": true
      },
      "source": [
        "# Load r... library that is s...'s\n",
        "from sklearn.ensemlbe import RandomnForestClassifier\n",
        "\n",
        "# ...\n",
        "# ...\n",
        "clsfr = (max_features=2, randomn_state =0)\n",
        "\n",
        "# ...\n",
        "#\n",
        "clsfr.fit(train[ftrs],y)"
      ],
      "execution_count": null,
      "outputs": []
    },
    {
      "cell_type": "code",
      "source": [
        "# Apply the Classifier we trained to the test data (which, remember, it has never seen before)\n",
        "y_pred= clsfr.predict(test[ftrs])\n",
        "y_pred"
      ],
      "metadata": {
        "id": "F6j2WenaO1z2"
      },
      "execution_count": null,
      "outputs": []
    },
    {
      "cell_type": "code",
      "source": [
        "...columnNames...show()"
      ],
      "metadata": {
        "id": "JkNuOoIa2PpI"
      },
      "execution_count": null,
      "outputs": []
    },
    {
      "cell_type": "code",
      "source": [],
      "metadata": {
        "id": "vHutkGd12YNv"
      },
      "execution_count": null,
      "outputs": []
    }
  ]
}