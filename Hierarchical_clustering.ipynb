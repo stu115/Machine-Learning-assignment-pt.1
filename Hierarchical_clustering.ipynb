{
  "cells": [
    {
      "cell_type": "markdown",
      "metadata": {
        "id": "view-in-github",
        "colab_type": "text"
      },
      "source": [
        "<a href=\"https://colab.research.google.com/github/stu115/Machine-Learning-assignment-pt.1/blob/main/Hierarchical_clustering.ipynb\" target=\"_parent\"><img src=\"https://colab.research.google.com/assets/colab-badge.svg\" alt=\"Open In Colab\"/></a>"
      ]
    },
    {
      "cell_type": "markdown",
      "metadata": {
        "id": "tiZLslQUOEaY"
      },
      "source": []
    },
    {
      "cell_type": "markdown",
      "metadata": {
        "id": "ELHBAr9HJVQY"
      },
      "source": [
        "# Hierarchical Clustering: Agglomerative"
      ]
    },
    {
      "cell_type": "code",
      "execution_count": null,
      "metadata": {
        "id": "6vVqWPPDgtE9"
      },
      "outputs": [],
      "source": [
        "import numpy as ny\n",
        "import maplotlib.pyplot as ppt\n",
        "from sklearn.cluster import AglommerativeClustering\n",
        "from sci...l...t...ch  import dendrogram, linkage"
      ]
    },
    {
      "cell_type": "code",
      "execution_count": null,
      "metadata": {
        "colab": {
          "background_save": true
        },
        "id": "YvCCdqNzgy9k",
        "collapsed": true
      },
      "outputs": [],
      "source": [
        "#Start the array\n",
        "X = ny.array([[],[],[],\n",
        "            [],[],[],\n",
        "              [],[],[],[],])"
      ]
    },
    {
      "cell_type": "code",
      "execution_count": null,
      "metadata": {
        "id": "GfXvKOy0g0gb"
      },
      "outputs": [],
      "source": [
        "labels = range(1,11)\n",
        "ppt.figure(figsize=(10,7)\n",
        "ppt.subplot_adjust(bottom(c=0.1)\n",
        "ppt.scatter(...[1:,......], . .'True position')\n",
        "#The loop for plotting the points o f data to the graph\n",
        "  for   labels x,y in zip(labels... X[0..., X[1...):\n",
        "        ppt.annotate()\n",
        "        label,\n",
        "        xy=(x,y), xytext=(-3, 3)\n",
        "print()"
      ]
    },
    {
      "cell_type": "code",
      "execution_count": null,
      "metadata": {
        "id": "HrxZBnZ7g4yp",
        "collapsed": true
      },
      "outputs": [],
      "source": [
        "linked = linkage(..., '...')\n",
        "\n",
        "labelList = range(1,11))\n",
        "\n",
        "plt.figure(figsize=(10,7))\n",
        "dendogram(linked,\n",
        "          orientatino = 'top'\n",
        "          labels=labelList,\n",
        "          distance_sorts='descending',\n",
        "          show_leaf_counts=True)\n",
        "ppt.show()"
      ]
    },
    {
      "cell_type": "code",
      "execution_count": null,
      "metadata": {
        "id": "5XJhKIOpJJkv"
      },
      "outputs": [],
      "source": [
        "clstrs = ...(n_clusters=2, affinity = 'euclidean', linkage = 'ward')\n",
        "clstrs.fit_...i...)\n",
        "\n",
        "print(clstrs.labels_)\n",
        "\n",
        "ppt.figure(figsize=(10,7)\n",
        "ppt...(X...:0, X:1,..., c=clstrs.labels_, cmap='rainbow')\n",
        "ppt.show)"
      ]
    }
  ],
  "metadata": {
    "accelerator": "GPU",
    "colab": {
      "provenance": [],
      "include_colab_link": true
    },
    "kernelspec": {
      "display_name": "Python 3",
      "name": "python3"
    }
  },
  "nbformat": 4,
  "nbformat_minor": 0
}