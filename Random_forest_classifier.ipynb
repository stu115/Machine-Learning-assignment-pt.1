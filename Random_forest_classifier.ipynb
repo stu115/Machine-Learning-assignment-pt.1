{
  "nbformat": 4,
  "nbformat_minor": 0,
  "metadata": {
    "colab": {
      "provenance": [],
      "include_colab_link": true
    },
    "kernelspec": {
      "name": "python3",
      "display_name": "Python 3"
    },
    "accelerator": "GPU"
  },
  "cells": [
    {
      "cell_type": "markdown",
      "metadata": {
        "id": "view-in-github",
        "colab_type": "text"
      },
      "source": [
        "<a href=\"https://colab.research.google.com/github/stu115/Machine-Learning-assignment-pt.1/blob/main/Random_forest_classifier.ipynb\" target=\"_parent\"><img src=\"https://colab.research.google.com/assets/colab-badge.svg\" alt=\"Open In Colab\"/></a>"
      ]
    },
    {
      "cell_type": "markdown",
      "metadata": {
        "id": "p-brOh4nPNg9"
      },
      "source": [
        "# Random Forest"
      ]
    },
    {
      "cell_type": "markdown",
      "metadata": {
        "id": "w6eegKUIG-Qr"
      },
      "source": [
        "# About The Data - Note\n",
        "The data is famous. Called, the iris dataset, it has got four variables. They measuring different parts of iris flowers of three related species. So several of them and then a fourth. This variable with the species name. The data is needing not alot of preprocessing (i.e. without missing values, floating numbers are all features etc.). https://archive.ics.uci.edu/ml/datasets/Iris/. It is so famous in Machine learning and statistics communities because of that."
      ]
    },
    {
      "cell_type": "code",
      "metadata": {
        "id": "bgSfCUB-Gp0n"
      },
      "source": [
        "# Load the library with the set of data that's iris\n",
        "from sklearn.datasets import load_iris\n",
        "\n",
        "# Lo...\n",
        "import numpy as np\n",
        "\n",
        "# Lo...\n",
        "import pandas as pd"
      ],
      "execution_count": null,
      "outputs": []
    },
    {
      "cell_type": "markdown",
      "metadata": {
        "id": "JBWjoymPHLSm"
      },
      "source": [
        "## Load Data"
      ]
    },
    {
      "cell_type": "code",
      "metadata": {
        "id": "KvI13hbJHOdy",
        "colab": {
          "base_uri": "https://localhost:8080/",
          "height": 204
        },
        "outputId": "17d3c71b-a6fb-42e1-f0be-d39e2137b969"
      },
      "source": [
        "...\n",
        "ir = load_iris()\n",
        "\n",
        "# Create a dataframe with the four feature variables\n",
        "df = dataframe(ir.data,ir.feature_columnNames)\n",
        "\n",
        "# View the top 5 rows\n",
        "df.head()"
      ],
      "execution_count": null,
      "outputs": [
        {
          "output_type": "execute_result",
          "data": {
            "text/html": [
              "<div>\n",
              "<style scoped>\n",
              "    .dataframe tbody tr th:only-of-type {\n",
              "        vertical-align: middle;\n",
              "    }\n",
              "\n",
              "    .dataframe tbody tr th {\n",
              "        vertical-align: top;\n",
              "    }\n",
              "\n",
              "    .dataframe thead th {\n",
              "        text-align: right;\n",
              "    }\n",
              "</style>\n",
              "<table border=\"1\" class=\"dataframe\">\n",
              "  <thead>\n",
              "    <tr style=\"text-align: right;\">\n",
              "      <th></th>\n",
              "      <th>sepal length (cm)</th>\n",
              "      <th>sepal width (cm)</th>\n",
              "      <th>petal length (cm)</th>\n",
              "      <th>petal width (cm)</th>\n",
              "    </tr>\n",
              "  </thead>\n",
              "  <tbody>\n",
              "    <tr>\n",
              "      <th>0</th>\n",
              "      <td>5.1</td>\n",
              "      <td>3.5</td>\n",
              "      <td>1.4</td>\n",
              "      <td>0.2</td>\n",
              "    </tr>\n",
              "    <tr>\n",
              "      <th>1</th>\n",
              "      <td>4.9</td>\n",
              "      <td>3.0</td>\n",
              "      <td>1.4</td>\n",
              "      <td>0.2</td>\n",
              "    </tr>\n",
              "    <tr>\n",
              "      <th>2</th>\n",
              "      <td>4.7</td>\n",
              "      <td>3.2</td>\n",
              "      <td>1.3</td>\n",
              "      <td>0.2</td>\n",
              "    </tr>\n",
              "    <tr>\n",
              "      <th>3</th>\n",
              "      <td>4.6</td>\n",
              "      <td>3.1</td>\n",
              "      <td>1.5</td>\n",
              "      <td>0.2</td>\n",
              "    </tr>\n",
              "    <tr>\n",
              "      <th>4</th>\n",
              "      <td>5.0</td>\n",
              "      <td>3.6</td>\n",
              "      <td>1.4</td>\n",
              "      <td>0.2</td>\n",
              "    </tr>\n",
              "  </tbody>\n",
              "</table>\n",
              "</div>"
            ],
            "text/plain": [
              "   sepal length (cm)  sepal width (cm)  petal length (cm)  petal width (cm)\n",
              "0                5.1               3.5                1.4               0.2\n",
              "1                4.9               3.0                1.4               0.2\n",
              "2                4.7               3.2                1.3               0.2\n",
              "3                4.6               3.1                1.5               0.2\n",
              "4                5.0               3.6                1.4               0.2"
            ]
          },
          "metadata": {
            "tags": []
          },
          "execution_count": 2
        }
      ]
    },
    {
      "cell_type": "code",
      "metadata": {
        "id": "5L9os6FDHS8R",
        "colab": {
          "base_uri": "https://localhost:8080/",
          "height": 204
        },
        "outputId": "2e967912-2964-4ec8-bef6-e1929db1d863"
      },
      "source": [
        "# Add a new column with the species names, this is what we are going to try to predict\n",
        "df.species... ... categorical...fro_code....target, ir.target_names)\n",
        "\n",
        "# View the top 5 rows"
      ],
      "execution_count": null,
      "outputs": [
        {
          "output_type": "execute_result",
          "data": {
            "text/html": [
              "<div>\n",
              "<style scoped>\n",
              "    .dataframe tbody tr th:only-of-type {\n",
              "        vertical-align: middle;\n",
              "    }\n",
              "\n",
              "    .dataframe tbody tr th {\n",
              "        vertical-align: top;\n",
              "    }\n",
              "\n",
              "    .dataframe thead th {\n",
              "        text-align: right;\n",
              "    }\n",
              "</style>\n",
              "<table border=\"1\" class=\"dataframe\">\n",
              "  <thead>\n",
              "    <tr style=\"text-align: right;\">\n",
              "      <th></th>\n",
              "      <th>sepal length (cm)</th>\n",
              "      <th>sepal width (cm)</th>\n",
              "      <th>petal length (cm)</th>\n",
              "      <th>petal width (cm)</th>\n",
              "      <th>species</th>\n",
              "    </tr>\n",
              "  </thead>\n",
              "  <tbody>\n",
              "    <tr>\n",
              "      <th>0</th>\n",
              "      <td>5.1</td>\n",
              "      <td>3.5</td>\n",
              "      <td>1.4</td>\n",
              "      <td>0.2</td>\n",
              "      <td>setosa</td>\n",
              "    </tr>\n",
              "    <tr>\n",
              "      <th>1</th>\n",
              "      <td>4.9</td>\n",
              "      <td>3.0</td>\n",
              "      <td>1.4</td>\n",
              "      <td>0.2</td>\n",
              "      <td>setosa</td>\n",
              "    </tr>\n",
              "    <tr>\n",
              "      <th>2</th>\n",
              "      <td>4.7</td>\n",
              "      <td>3.2</td>\n",
              "      <td>1.3</td>\n",
              "      <td>0.2</td>\n",
              "      <td>setosa</td>\n",
              "    </tr>\n",
              "    <tr>\n",
              "      <th>3</th>\n",
              "      <td>4.6</td>\n",
              "      <td>3.1</td>\n",
              "      <td>1.5</td>\n",
              "      <td>0.2</td>\n",
              "      <td>setosa</td>\n",
              "    </tr>\n",
              "    <tr>\n",
              "      <th>4</th>\n",
              "      <td>5.0</td>\n",
              "      <td>3.6</td>\n",
              "      <td>1.4</td>\n",
              "      <td>0.2</td>\n",
              "      <td>setosa</td>\n",
              "    </tr>\n",
              "  </tbody>\n",
              "</table>\n",
              "</div>"
            ],
            "text/plain": [
              "   sepal length (cm)  sepal width (cm)  ...  petal width (cm)  species\n",
              "0                5.1               3.5  ...               0.2   setosa\n",
              "1                4.9               3.0  ...               0.2   setosa\n",
              "2                4.7               3.2  ...               0.2   setosa\n",
              "3                4.6               3.1  ...               0.2   setosa\n",
              "4                5.0               3.6  ...               0.2   setosa\n",
              "\n",
              "[5 rows x 5 columns]"
            ]
          },
          "metadata": {
            "tags": []
          },
          "execution_count": 3
        }
      ]
    },
    {
      "cell_type": "markdown",
      "metadata": {
        "id": "ON-Om-KMHW1h"
      },
      "source": [
        "## Create Training And Test Data\n",
        "\n",
        "Randomly split the data"
      ]
    },
    {
      "cell_type": "code",
      "metadata": {
        "id": "4KSm5mRwHXde",
        "colab": {
          "base_uri": "https://localhost:8080/",
          "height": 198
        },
        "outputId": "db9b65ea-deec-44f8-ef3f-b9b73fbd7f1b"
      },
      "source": [
        "#...\n",
        "#...\n",
        "np.randomn.seed(0)\n",
        "df...sra... = ...uniform...figSize... ...<= .75\n",
        "\n",
        "#...\n"
      ],
      "execution_count": null,
      "outputs": [
        {
          "output_type": "execute_result",
          "data": {
            "text/html": [
              "<div>\n",
              "<style scoped>\n",
              "    .dataframe tbody tr th:only-of-type {\n",
              "        vertical-align: middle;\n",
              "    }\n",
              "\n",
              "    .dataframe tbody tr th {\n",
              "        vertical-align: top;\n",
              "    }\n",
              "\n",
              "    .dataframe thead th {\n",
              "        text-align: right;\n",
              "    }\n",
              "</style>\n",
              "<table border=\"1\" class=\"dataframe\">\n",
              "  <thead>\n",
              "    <tr style=\"text-align: right;\">\n",
              "      <th></th>\n",
              "      <th>sepal length (cm)</th>\n",
              "      <th>sepal width (cm)</th>\n",
              "      <th>petal length (cm)</th>\n",
              "      <th>petal width (cm)</th>\n",
              "      <th>species</th>\n",
              "      <th>is_train</th>\n",
              "    </tr>\n",
              "  </thead>\n",
              "  <tbody>\n",
              "    <tr>\n",
              "      <th>0</th>\n",
              "      <td>5.1</td>\n",
              "      <td>3.5</td>\n",
              "      <td>1.4</td>\n",
              "      <td>0.2</td>\n",
              "      <td>setosa</td>\n",
              "      <td>True</td>\n",
              "    </tr>\n",
              "    <tr>\n",
              "      <th>1</th>\n",
              "      <td>4.9</td>\n",
              "      <td>3.0</td>\n",
              "      <td>1.4</td>\n",
              "      <td>0.2</td>\n",
              "      <td>setosa</td>\n",
              "      <td>True</td>\n",
              "    </tr>\n",
              "    <tr>\n",
              "      <th>2</th>\n",
              "      <td>4.7</td>\n",
              "      <td>3.2</td>\n",
              "      <td>1.3</td>\n",
              "      <td>0.2</td>\n",
              "      <td>setosa</td>\n",
              "      <td>True</td>\n",
              "    </tr>\n",
              "    <tr>\n",
              "      <th>3</th>\n",
              "      <td>4.6</td>\n",
              "      <td>3.1</td>\n",
              "      <td>1.5</td>\n",
              "      <td>0.2</td>\n",
              "      <td>setosa</td>\n",
              "      <td>True</td>\n",
              "    </tr>\n",
              "    <tr>\n",
              "      <th>4</th>\n",
              "      <td>5.0</td>\n",
              "      <td>3.6</td>\n",
              "      <td>1.4</td>\n",
              "      <td>0.2</td>\n",
              "      <td>setosa</td>\n",
              "      <td>True</td>\n",
              "    </tr>\n",
              "  </tbody>\n",
              "</table>\n",
              "</div>"
            ],
            "text/plain": [
              "   sepal length (cm)  sepal width (cm)  ...  species  is_train\n",
              "0                5.1               3.5  ...   setosa      True\n",
              "1                4.9               3.0  ...   setosa      True\n",
              "2                4.7               3.2  ...   setosa      True\n",
              "3                4.6               3.1  ...   setosa      True\n",
              "4                5.0               3.6  ...   setosa      True\n",
              "\n",
              "[5 rows x 6 columns]"
            ]
          },
          "metadata": {
            "tags": []
          },
          "execution_count": 46
        }
      ]
    },
    {
      "cell_type": "code",
      "metadata": {
        "id": "ZuyllvtqHbB3"
      },
      "source": [
        "# ...\n",
        "..."
      ],
      "execution_count": null,
      "outputs": []
    },
    {
      "cell_type": "code",
      "metadata": {
        "id": "pdFFdtAzHbnO",
        "collapsed": true
      },
      "source": [
        "# Show the number of observations for the test and training dataframes\n",
        "print('of the...test'), ...len\n",
        "print(''..of..the...train'),...len"
      ],
      "execution_count": null,
      "outputs": []
    },
    {
      "cell_type": "markdown",
      "metadata": {
        "id": "MLFWmt9LHfp5"
      },
      "source": [
        "## Preprocess Data\n",
        "\n",
        "Create features"
      ]
    },
    {
      "cell_type": "code",
      "metadata": {
        "id": "jA_XRZh4Hhcg",
        "colab": {
          "base_uri": "https://localhost:8080/"
        },
        "outputId": "d5a66e6b-da6c-4dce-c666-787f9e80abc2"
      },
      "source": [
        "# Create\n",
        "ftrs\n",
        "\n",
        "# View features\n",
        "ftrs...columnNames...shwo()"
      ],
      "execution_count": null,
      "outputs": [
        {
          "output_type": "execute_result",
          "data": {
            "text/plain": [
              "Index(['sepal length (cm)', 'sepal width (cm)', 'petal length (cm)',\n",
              "       'petal width (cm)'],\n",
              "      dtype='object')"
            ]
          },
          "metadata": {
            "tags": []
          },
          "execution_count": 65
        }
      ]
    },
    {
      "cell_type": "markdown",
      "metadata": {
        "id": "Oc5bcEeOHjpw"
      },
      "source": [
        "Create Target label"
      ]
    },
    {
      "cell_type": "code",
      "metadata": {
        "id": "f5Ngeg95HkJs",
        "collapsed": true
      },
      "source": [
        "# train['species'] has got the actual species names. We need to change each species name to a digit b4 running it.\n",
        "#So, in dataset case there are three species, which r written as 0, 1, or 2 code.\n",
        "\n",
        "...p factorial..aipec...)...0...\n",
        "\n",
        "#See target\n",
        "..."
      ],
      "execution_count": null,
      "outputs": []
    },
    {
      "cell_type": "markdown",
      "metadata": {
        "id": "A8aUR7wrHpZD"
      },
      "source": [
        "## Train the classifier of the Random Forest"
      ]
    },
    {
      "cell_type": "code",
      "metadata": {
        "id": "xURHzMXNHqJi",
        "collapsed": true
      },
      "source": [
        "# Load r... library that is s...'s\n",
        "from s...ea import ...\n",
        "\n",
        "# ...\n",
        "# ...\n",
        "clsfr = ...m...f=2, r...s...\n",
        "\n",
        "# ...\n",
        "#\n",
        "...it...ra..ftrs"
      ],
      "execution_count": null,
      "outputs": []
    },
    {
      "cell_type": "markdown",
      "source": [],
      "metadata": {
        "id": "2tfPFtJRcxS6"
      }
    },
    {
      "cell_type": "markdown",
      "metadata": {
        "id": "2SonEhF8HtD2"
      },
      "source": [
        "## Apply Classifier To Test Data\n",
        "\n",
        "Notice we only trained our classifier on part of the data if you've been following. Therefore leaving the rest out. This is the most important part of machine learning. Because by leaving out a portion we have a set of data to test the accuracy of our model."
      ]
    },
    {
      "cell_type": "code",
      "metadata": {
        "id": "ko3FrEBvHu3T",
        "colab": {
          "base_uri": "https://localhost:8080/"
        },
        "outputId": "acc75876-2012-49d1-a85b-25aeea2a0a2b"
      },
      "source": [
        "# ...\n",
        " ...sfp...t...\n"
      ],
      "execution_count": null,
      "outputs": [
        {
          "output_type": "execute_result",
          "data": {
            "text/plain": [
              "array([0, 0, 0, 0, 0, 0, 0, 0, 0, 0, 0, 0, 0, 1, 1, 1, 2, 2, 1, 1, 2, 2,\n",
              "       2, 2, 2, 2, 2, 2, 2, 2, 2, 2])"
            ]
          },
          "metadata": {
            "tags": []
          },
          "execution_count": 79
        }
      ]
    },
    {
      "cell_type": "markdown",
      "metadata": {
        "id": "tQ8wg4fbHyXB"
      },
      "source": [
        "Remember that we coded each of the three species of plant as 0, 1, or 2. What the list of numbers above is showing you is what species our model predicts each plant is based on the the sepal length, sepal width, petal length, and petal width. How confident is the classifier about each plant? We can see that too."
      ]
    },
    {
      "cell_type": "code",
      "metadata": {
        "id": "sT1F0wMOHzDJ",
        "colab": {
          "base_uri": "https://localhost:8080/"
        },
        "outputId": "12a21988-cfa6-4742-810a-96f0190671a5"
      },
      "source": [
        "# View the probabilities of the first 10 observations. These r predicted.\n",
        ".p...ob...f...0"
      ],
      "execution_count": null,
      "outputs": [
        {
          "output_type": "execute_result",
          "data": {
            "text/plain": [
              "array([[1.  , 0.  , 0.  ],\n",
              "       [1.  , 0.  , 0.  ],\n",
              "       [1.  , 0.  , 0.  ],\n",
              "       [1.  , 0.  , 0.  ],\n",
              "       [1.  , 0.  , 0.  ],\n",
              "       [0.95, 0.05, 0.  ],\n",
              "       [1.  , 0.  , 0.  ],\n",
              "       [0.99, 0.01, 0.  ],\n",
              "       [1.  , 0.  , 0.  ],\n",
              "       [1.  , 0.  , 0.  ],\n",
              "       [1.  , 0.  , 0.  ],\n",
              "       [0.99, 0.01, 0.  ],\n",
              "       [1.  , 0.  , 0.  ],\n",
              "       [0.  , 0.67, 0.33],\n",
              "       [0.  , 1.  , 0.  ]])"
            ]
          },
          "metadata": {
            "tags": []
          },
          "execution_count": 90
        }
      ]
    },
    {
      "cell_type": "markdown",
      "metadata": {
        "id": "sRTZBDltH2uM"
      },
      "source": [
        "..."
      ]
    },
    {
      "cell_type": "code",
      "metadata": {
        "id": "dHwZoGOQH5mG"
      },
      "source": [
        "# Build names 4 the plant class\n",
        " prdtn = i...t...t_...m...clsfr....ed...es...f...)..."
      ],
      "execution_count": null,
      "outputs": []
    },
    {
      "cell_type": "markdown",
      "metadata": {
        "id": "EdZW92WUH46I"
      },
      "source": [
        "..."
      ]
    },
    {
      "cell_type": "code",
      "metadata": {
        "id": "AYgLMJG0H6sh",
        "colab": {
          "base_uri": "https://localhost:8080/"
        },
        "outputId": "544a0c86-a840-49cc-b817-41d8bb7a05a8"
      },
      "source": [
        "# Looking at the species for the first five observations. These are PREDICTED\n",
        "prdtn... ...0:5..."
      ],
      "execution_count": null,
      "outputs": [
        {
          "output_type": "execute_result",
          "data": {
            "text/plain": [
              "array(['setosa', 'setosa', 'setosa', 'setosa', 'setosa'], dtype='<U10')"
            ]
          },
          "metadata": {
            "tags": []
          },
          "execution_count": 95
        }
      ]
    },
    {
      "cell_type": "code",
      "metadata": {
        "id": "B1Uq5PG8H-a5",
        "colab": {
          "base_uri": "https://localhost:8080/"
        },
        "outputId": "ffc7dd68-b118-415a-b170-3d30ebd35bdc"
      },
      "source": [
        "# View the ACTUAL species for the first five that have been observed\n",
        "t...t...species....h...d()"
      ],
      "execution_count": null,
      "outputs": [
        {
          "output_type": "execute_result",
          "data": {
            "text/plain": [
              "7     setosa\n",
              "8     setosa\n",
              "10    setosa\n",
              "13    setosa\n",
              "17    setosa\n",
              "Name: species, dtype: category\n",
              "Categories (3, object): ['setosa', 'versicolor', 'virginica']"
            ]
          },
          "metadata": {
            "tags": []
          },
          "execution_count": 96
        }
      ]
    },
    {
      "cell_type": "markdown",
      "metadata": {
        "id": "_LSNN9I3IAxy"
      },
      "source": []
    },
    {
      "cell_type": "markdown",
      "metadata": {
        "id": "jv5wdPphICdl"
      },
      "source": [
        "## Create a matrix that shows the confusion\n",
        "\n",
        "It can be confusing to look at. It's straightforward. The columns are species we predicted for the test data."
      ]
    },
    {
      "cell_type": "code",
      "metadata": {
        "id": "c283GZr_IELJ",
        "colab": {
          "base_uri": "https://localhost:8080/",
          "height": 168
        },
        "outputId": "1f8b5229-4d88-49ca-94bf-8946ae8a8fc0"
      },
      "source": [
        "# Create confusion matrix\n",
        "p..."
      ],
      "execution_count": null,
      "outputs": [
        {
          "output_type": "execute_result",
          "data": {
            "text/html": [
              "<div>\n",
              "<style scoped>\n",
              "    .dataframe tbody tr th:only-of-type {\n",
              "        vertical-align: middle;\n",
              "    }\n",
              "\n",
              "    .dataframe tbody tr th {\n",
              "        vertical-align: top;\n",
              "    }\n",
              "\n",
              "    .dataframe thead th {\n",
              "        text-align: right;\n",
              "    }\n",
              "</style>\n",
              "<table border=\"1\" class=\"dataframe\">\n",
              "  <thead>\n",
              "    <tr style=\"text-align: right;\">\n",
              "      <th>Predictions</th>\n",
              "      <th>setosa</th>\n",
              "      <th>versicolor</th>\n",
              "      <th>virginica</th>\n",
              "    </tr>\n",
              "    <tr>\n",
              "      <th>Actual</th>\n",
              "      <th></th>\n",
              "      <th></th>\n",
              "      <th></th>\n",
              "    </tr>\n",
              "  </thead>\n",
              "  <tbody>\n",
              "    <tr>\n",
              "      <th>setosa</th>\n",
              "      <td>13</td>\n",
              "      <td>0</td>\n",
              "      <td>0</td>\n",
              "    </tr>\n",
              "    <tr>\n",
              "      <th>versicolor</th>\n",
              "      <td>0</td>\n",
              "      <td>5</td>\n",
              "      <td>2</td>\n",
              "    </tr>\n",
              "    <tr>\n",
              "      <th>virginica</th>\n",
              "      <td>0</td>\n",
              "      <td>0</td>\n",
              "      <td>12</td>\n",
              "    </tr>\n",
              "  </tbody>\n",
              "</table>\n",
              "</div>"
            ],
            "text/plain": [
              "Predictions  setosa  versicolor  virginica\n",
              "Actual                                    \n",
              "setosa           13           0          0\n",
              "versicolor        0           5          2\n",
              "virginica         0           0         12"
            ]
          },
          "metadata": {
            "tags": []
          },
          "execution_count": 98
        }
      ]
    },
    {
      "cell_type": "markdown",
      "metadata": {
        "id": "gSd-7RLTIGNa"
      },
      "source": [
        "## Look at importance of feature\n",
        "\n",
        "We do get a score telling us how important each feature was in classifying."
      ]
    },
    {
      "cell_type": "code",
      "metadata": {
        "id": "Hlsrr5-wIHiw",
        "colab": {
          "base_uri": "https://localhost:8080/"
        },
        "outputId": "e10c5fa3-d5ba-464c-f630-ee61c0cd94af"
      },
      "source": [
        "# View a list of the features and their importance scores\n",
        "#...\n",
        "f...p...(cl...in...i...f...s...v...\n",
        "..."
      ],
      "execution_count": null,
      "outputs": [
        {
          "output_type": "execute_result",
          "data": {
            "text/plain": [
              "petal length (cm)    0.446485\n",
              "petal width (cm)     0.446313\n",
              "sepal length (cm)    0.084740\n",
              "sepal width (cm)     0.022461\n",
              "dtype: float64"
            ]
          },
          "metadata": {
            "tags": []
          },
          "execution_count": 102
        }
      ]
    },
    {
      "cell_type": "markdown",
      "metadata": {
        "id": "4d-Ms2XVIJ_U"
      },
      "source": [
        "##Vision of the plots of data\n",
        "\n",
        "For seeing the plots you can have matplotlib and seaborns combined."
      ]
    },
    {
      "cell_type": "code",
      "metadata": {
        "id": "2MgMdEC7IMOJ",
        "colab": {
          "base_uri": "https://localhost:8080/",
          "height": 295
        },
        "outputId": "2f1f77b0-bfc0-4834-c0e1-1567000502e3"
      },
      "source": [
        "import matplotlib.pyplot as pt\n",
        "import seaborn as sbrn\n",
        "\n",
        "# Creating a plot being bar\n",
        "sbrn.barplot...f...i.., ...f......i.i...x...\n",
        "\n",
        "# Add labels to your graph. sbr does not go b4 the dot in each line here.\n",
        "pt...'Score on the right'...\n",
        "pt..'Sizes of each feature'...\n",
        "pt...'View of the important features put in it'...\n",
        "pt.show()"
      ],
      "execution_count": null,
      "outputs": [
        {
          "output_type": "display_data",
          "data": {
            "image/png": "[encoded data removed]",
            "text/plain": [
              "<Figure size 432x288 with 1 Axes>"
            ]
          },
          "metadata": {
            "tags": [],
            "needs_background": "light"
          }
        }
      ]
    },
    {
      "cell_type": "code",
      "metadata": {
        "id": "UvlsWqE8LDpx",
        "colab": {
          "base_uri": "https://localhost:8080/"
        },
        "outputId": "f81e0e90-20a4-4ddb-81ec-a0e38d5db741"
      },
      "source": [
        "y_prdtn = clsfr...(test...f\n",
        "...\n",
        "y...  ...tn...fa...\n",
        "..._...t\n",
        "\n",
        "#Import scikit-learn metrics module for working out accuracy\n",
        "from sklearn import metrics\n",
        "\n",
        "# For seeing how often  the classifier is correct model accuracy\n",
        "..i...("
      ],
      "execution_count": null,
      "outputs": [
        {
          "output_type": "stream",
          "text": [
            "Accuracy: 0.9375\n"
          ],
          "name": "stdout"
        }
      ]
    }
  ]
}